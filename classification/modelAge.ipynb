{
 "cells": [
  {
   "cell_type": "code",
   "execution_count": 1,
   "metadata": {
    "collapsed": true
   },
   "outputs": [],
   "source": [
    "import pandas as pd\n",
    "import numpy as np\n",
    "import matplotlib.pyplot as plt\n",
    "import pandas as pd\n",
    "import seaborn as sns\n",
    "\n",
    "from sklearn.preprocessing import StandardScaler \n",
    "from sklearn.decomposition import PCA\n",
    "from sklearn.svm import SVC\n",
    "from sklearn.pipeline import Pipeline\n",
    "from sklearn.model_selection import train_test_split\n",
    "from sklearn import metrics\n",
    "\n",
    "%matplotlib inline"
   ]
  },
  {
   "cell_type": "code",
   "execution_count": 2,
   "metadata": {
    "collapsed": true
   },
   "outputs": [],
   "source": [
    "NUM_PCA_COMPONENTS = 10\n",
    "CROSS_VALIDATION = 10\n",
    "BIN_SIZE = 20"
   ]
  },
  {
   "cell_type": "code",
   "execution_count": 3,
   "metadata": {
    "collapsed": true
   },
   "outputs": [],
   "source": [
    "df = pd.read_csv(\"./dataset/age_acoustic.csv\")"
   ]
  },
  {
   "cell_type": "code",
   "execution_count": 4,
   "metadata": {},
   "outputs": [
    {
     "data": {
      "text/html": [
       "<div>\n",
       "<style>\n",
       "    .dataframe thead tr:only-child th {\n",
       "        text-align: right;\n",
       "    }\n",
       "\n",
       "    .dataframe thead th {\n",
       "        text-align: left;\n",
       "    }\n",
       "\n",
       "    .dataframe tbody tr th {\n",
       "        vertical-align: top;\n",
       "    }\n",
       "</style>\n",
       "<table border=\"1\" class=\"dataframe\">\n",
       "  <thead>\n",
       "    <tr style=\"text-align: right;\">\n",
       "      <th></th>\n",
       "      <th>meanfreq</th>\n",
       "      <th>sd</th>\n",
       "      <th>median</th>\n",
       "      <th>Q25</th>\n",
       "      <th>Q75</th>\n",
       "      <th>IQR</th>\n",
       "      <th>skew</th>\n",
       "      <th>kurt</th>\n",
       "      <th>sp.ent</th>\n",
       "      <th>sfm</th>\n",
       "      <th>...</th>\n",
       "      <th>centroid</th>\n",
       "      <th>meanfun</th>\n",
       "      <th>minfun</th>\n",
       "      <th>maxfun</th>\n",
       "      <th>meandom</th>\n",
       "      <th>mindom</th>\n",
       "      <th>maxdom</th>\n",
       "      <th>dfrange</th>\n",
       "      <th>modindx</th>\n",
       "      <th>age</th>\n",
       "    </tr>\n",
       "  </thead>\n",
       "  <tbody>\n",
       "    <tr>\n",
       "      <th>0</th>\n",
       "      <td>0.171924</td>\n",
       "      <td>0.084798</td>\n",
       "      <td>0.191168</td>\n",
       "      <td>0.097835</td>\n",
       "      <td>0.251890</td>\n",
       "      <td>0.154055</td>\n",
       "      <td>2.158582</td>\n",
       "      <td>8.769025</td>\n",
       "      <td>0.955996</td>\n",
       "      <td>0.686715</td>\n",
       "      <td>...</td>\n",
       "      <td>0.171924</td>\n",
       "      <td>0.118349</td>\n",
       "      <td>0.043151</td>\n",
       "      <td>0.279114</td>\n",
       "      <td>1.370654</td>\n",
       "      <td>0.0</td>\n",
       "      <td>6.007764</td>\n",
       "      <td>6.007764</td>\n",
       "      <td>0.140773</td>\n",
       "      <td>28.0</td>\n",
       "    </tr>\n",
       "    <tr>\n",
       "      <th>1</th>\n",
       "      <td>0.119687</td>\n",
       "      <td>0.084263</td>\n",
       "      <td>0.100236</td>\n",
       "      <td>0.044716</td>\n",
       "      <td>0.184466</td>\n",
       "      <td>0.139750</td>\n",
       "      <td>0.832820</td>\n",
       "      <td>3.587928</td>\n",
       "      <td>0.972519</td>\n",
       "      <td>0.762762</td>\n",
       "      <td>...</td>\n",
       "      <td>0.119687</td>\n",
       "      <td>0.122129</td>\n",
       "      <td>0.043793</td>\n",
       "      <td>0.279114</td>\n",
       "      <td>0.730685</td>\n",
       "      <td>0.0</td>\n",
       "      <td>4.306641</td>\n",
       "      <td>4.306641</td>\n",
       "      <td>0.119247</td>\n",
       "      <td>28.0</td>\n",
       "    </tr>\n",
       "    <tr>\n",
       "      <th>2</th>\n",
       "      <td>0.151992</td>\n",
       "      <td>0.079224</td>\n",
       "      <td>0.147153</td>\n",
       "      <td>0.092833</td>\n",
       "      <td>0.228382</td>\n",
       "      <td>0.135548</td>\n",
       "      <td>2.086398</td>\n",
       "      <td>11.305400</td>\n",
       "      <td>0.966884</td>\n",
       "      <td>0.745067</td>\n",
       "      <td>...</td>\n",
       "      <td>0.151992</td>\n",
       "      <td>0.113303</td>\n",
       "      <td>0.043235</td>\n",
       "      <td>0.277358</td>\n",
       "      <td>1.324179</td>\n",
       "      <td>0.0</td>\n",
       "      <td>5.103369</td>\n",
       "      <td>5.103369</td>\n",
       "      <td>0.182165</td>\n",
       "      <td>28.0</td>\n",
       "    </tr>\n",
       "    <tr>\n",
       "      <th>3</th>\n",
       "      <td>0.165107</td>\n",
       "      <td>0.086021</td>\n",
       "      <td>0.176763</td>\n",
       "      <td>0.096534</td>\n",
       "      <td>0.249389</td>\n",
       "      <td>0.152855</td>\n",
       "      <td>2.787841</td>\n",
       "      <td>15.209603</td>\n",
       "      <td>0.964662</td>\n",
       "      <td>0.747109</td>\n",
       "      <td>...</td>\n",
       "      <td>0.165107</td>\n",
       "      <td>0.114948</td>\n",
       "      <td>0.043151</td>\n",
       "      <td>0.279114</td>\n",
       "      <td>1.379196</td>\n",
       "      <td>0.0</td>\n",
       "      <td>6.050830</td>\n",
       "      <td>6.050830</td>\n",
       "      <td>0.146071</td>\n",
       "      <td>28.0</td>\n",
       "    </tr>\n",
       "    <tr>\n",
       "      <th>4</th>\n",
       "      <td>0.177831</td>\n",
       "      <td>0.087909</td>\n",
       "      <td>0.206274</td>\n",
       "      <td>0.102537</td>\n",
       "      <td>0.257892</td>\n",
       "      <td>0.155355</td>\n",
       "      <td>3.057116</td>\n",
       "      <td>15.071552</td>\n",
       "      <td>0.944205</td>\n",
       "      <td>0.634907</td>\n",
       "      <td>...</td>\n",
       "      <td>0.177831</td>\n",
       "      <td>0.119130</td>\n",
       "      <td>0.043320</td>\n",
       "      <td>0.279114</td>\n",
       "      <td>1.276547</td>\n",
       "      <td>0.0</td>\n",
       "      <td>6.050830</td>\n",
       "      <td>6.050830</td>\n",
       "      <td>0.137097</td>\n",
       "      <td>28.0</td>\n",
       "    </tr>\n",
       "  </tbody>\n",
       "</table>\n",
       "<p>5 rows × 21 columns</p>\n",
       "</div>"
      ],
      "text/plain": [
       "   meanfreq        sd    median       Q25       Q75       IQR      skew  \\\n",
       "0  0.171924  0.084798  0.191168  0.097835  0.251890  0.154055  2.158582   \n",
       "1  0.119687  0.084263  0.100236  0.044716  0.184466  0.139750  0.832820   \n",
       "2  0.151992  0.079224  0.147153  0.092833  0.228382  0.135548  2.086398   \n",
       "3  0.165107  0.086021  0.176763  0.096534  0.249389  0.152855  2.787841   \n",
       "4  0.177831  0.087909  0.206274  0.102537  0.257892  0.155355  3.057116   \n",
       "\n",
       "        kurt    sp.ent       sfm  ...   centroid   meanfun    minfun  \\\n",
       "0   8.769025  0.955996  0.686715  ...   0.171924  0.118349  0.043151   \n",
       "1   3.587928  0.972519  0.762762  ...   0.119687  0.122129  0.043793   \n",
       "2  11.305400  0.966884  0.745067  ...   0.151992  0.113303  0.043235   \n",
       "3  15.209603  0.964662  0.747109  ...   0.165107  0.114948  0.043151   \n",
       "4  15.071552  0.944205  0.634907  ...   0.177831  0.119130  0.043320   \n",
       "\n",
       "     maxfun   meandom  mindom    maxdom   dfrange   modindx   age  \n",
       "0  0.279114  1.370654     0.0  6.007764  6.007764  0.140773  28.0  \n",
       "1  0.279114  0.730685     0.0  4.306641  4.306641  0.119247  28.0  \n",
       "2  0.277358  1.324179     0.0  5.103369  5.103369  0.182165  28.0  \n",
       "3  0.279114  1.379196     0.0  6.050830  6.050830  0.146071  28.0  \n",
       "4  0.279114  1.276547     0.0  6.050830  6.050830  0.137097  28.0  \n",
       "\n",
       "[5 rows x 21 columns]"
      ]
     },
     "execution_count": 4,
     "metadata": {},
     "output_type": "execute_result"
    }
   ],
   "source": [
    "df.head()"
   ]
  },
  {
   "cell_type": "code",
   "execution_count": 5,
   "metadata": {
    "collapsed": true
   },
   "outputs": [],
   "source": [
    "# Divide the features and target\n",
    "X, y = df[df.columns[:-1]], df['age']\n",
    "# Reassign the target variables \n",
    "y = np.ceil(y/BIN_SIZE)"
   ]
  },
  {
   "cell_type": "code",
   "execution_count": 6,
   "metadata": {
    "scrolled": true
   },
   "outputs": [
    {
     "data": {
      "text/plain": [
       "825"
      ]
     },
     "execution_count": 6,
     "metadata": {},
     "output_type": "execute_result"
    }
   ],
   "source": [
    "y.count()\n"
   ]
  },
  {
   "cell_type": "code",
   "execution_count": 7,
   "metadata": {},
   "outputs": [
    {
     "data": {
      "text/plain": [
       "3.0    374\n",
       "2.0    299\n",
       "4.0    150\n",
       "6.0      2\n",
       "Name: age, dtype: int64"
      ]
     },
     "execution_count": 7,
     "metadata": {},
     "output_type": "execute_result"
    }
   ],
   "source": [
    "y.value_counts()"
   ]
  },
  {
   "cell_type": "markdown",
   "metadata": {},
   "source": [
    "Training the model"
   ]
  },
  {
   "cell_type": "code",
   "execution_count": 8,
   "metadata": {
    "collapsed": true
   },
   "outputs": [],
   "source": [
    "X_train, X_test, y_train, y_test = train_test_split(X, y, test_size=0.5, random_state=1123, shuffle = True)"
   ]
  },
  {
   "cell_type": "code",
   "execution_count": 9,
   "metadata": {},
   "outputs": [
    {
     "data": {
      "text/plain": [
       "Pipeline(memory=None,\n",
       "     steps=[('std_scl', StandardScaler(copy=True, with_mean=True, with_std=True)), ('pca', PCA(copy=True, iterated_power='auto', n_components=10, random_state=None,\n",
       "  svd_solver='auto', tol=0.0, whiten=False)), ('svc', SVC(C=1.0, cache_size=200, class_weight=None, coef0=0.0,\n",
       "  decision_function_shape='ovr', degree=3, gamma='auto', kernel='rbf',\n",
       "  max_iter=-1, probability=False, random_state=1, shrinking=True,\n",
       "  tol=0.001, verbose=False))])"
      ]
     },
     "execution_count": 9,
     "metadata": {},
     "output_type": "execute_result"
    }
   ],
   "source": [
    "pipe_svc = Pipeline([('std_scl', StandardScaler()),\n",
    "                    ('pca', PCA(n_components=10)),\n",
    "                    ('svc', SVC(random_state=1))])\n",
    "pipe_svc.fit(X_train, y_train)"
   ]
  },
  {
   "cell_type": "code",
   "execution_count": 10,
   "metadata": {},
   "outputs": [
    {
     "name": "stdout",
     "output_type": "stream",
     "text": [
      "0.740920096852\n"
     ]
    }
   ],
   "source": [
    "print pipe_svc.score(X_test, y_test)"
   ]
  },
  {
   "cell_type": "code",
   "execution_count": 11,
   "metadata": {
    "collapsed": true
   },
   "outputs": [],
   "source": [
    "from sklearn.model_selection import cross_val_score"
   ]
  },
  {
   "cell_type": "code",
   "execution_count": 12,
   "metadata": {},
   "outputs": [
    {
     "name": "stderr",
     "output_type": "stream",
     "text": [
      "/home/HDUSER/anaconda2/lib/python2.7/site-packages/sklearn/model_selection/_split.py:605: Warning: The least populated class in y has only 2 members, which is too few. The minimum number of members in any class cannot be less than n_splits=10.\n",
      "  % (min_groups, self.n_splits)), Warning)\n"
     ]
    },
    {
     "data": {
      "text/plain": [
       "array([ 0.74418605,  0.79069767,  0.80487805,  0.70731707,  0.75609756,\n",
       "        0.70731707,  0.80487805,  0.65853659,  0.8       ,  0.8       ])"
      ]
     },
     "execution_count": 12,
     "metadata": {},
     "output_type": "execute_result"
    }
   ],
   "source": [
    "scores = cross_val_score(estimator=pipe_svc,\n",
    "                       X=X_train, \n",
    "                       y=y_train,\n",
    "                       cv=10, \n",
    "                       n_jobs=1)\n",
    "scores"
   ]
  },
  {
   "cell_type": "code",
   "execution_count": 13,
   "metadata": {},
   "outputs": [
    {
     "data": {
      "image/png": "[encoded data removed]",
      "text/plain": [
       "<matplotlib.figure.Figure at 0x7fde80e84a10>"
      ]
     },
     "metadata": {},
     "output_type": "display_data"
    }
   ],
   "source": [
    "import matplotlib.pyplot as plt\n",
    "plt.title('Cross validation scores')\n",
    "plt.scatter(np.arange(len(scores)), scores)\n",
    "plt.axhline(y=np.mean(scores), color='g') # Mean value of cross validation scores\n",
    "plt.show()"
   ]
  },
  {
   "cell_type": "code",
   "execution_count": 14,
   "metadata": {},
   "outputs": [
    {
     "data": {
      "image/png": "[encoded data removed]",
      "text/plain": [
       "<matplotlib.figure.Figure at 0x7fde80dd8e50>"
      ]
     },
     "metadata": {},
     "output_type": "display_data"
    }
   ],
   "source": [
    "from sklearn.model_selection import learning_curve\n",
    "\n",
    "train_sizes, train_scores, test_scores = learning_curve(estimator=pipe_svc,\n",
    "                                                       X=X_train,\n",
    "                                                       y=y_train,\n",
    "                                                       train_sizes=np.linspace(0.1, 1.0, 10),\n",
    "                                                       cv=10)\n",
    "\n",
    "# Mean value of accuracy against training data\n",
    "train_mean = np.mean(train_scores, axis=1)\n",
    "\n",
    "# Standard deviation of training accuracy per number of training samples\n",
    "train_std = np.std(train_scores, axis=1)\n",
    "\n",
    "# Same as above for test data\n",
    "test_mean = np.mean(test_scores, axis=1)\n",
    "test_std = np.std(test_scores, axis=1)\n",
    "\n",
    "# Plot training accuracies \n",
    "plt.plot(train_sizes, train_mean, color='red', marker='o', label='Training Accuracy')\n",
    "# Plot the variance of training accuracies\n",
    "plt.fill_between(train_sizes,\n",
    "                train_mean + train_std,\n",
    "                train_mean - train_std,\n",
    "                alpha=0.15, color='red')\n",
    "\n",
    "# Plot for test data as training data\n",
    "plt.plot(train_sizes, test_mean, color='blue', linestyle='--', marker='s', \n",
    "        label='Test Accuracy')\n",
    "plt.fill_between(train_sizes,\n",
    "                test_mean + test_std,\n",
    "                test_mean - test_std,\n",
    "                alpha=0.15, color='blue')\n",
    "\n",
    "plt.xlabel('Number of training samples')\n",
    "plt.ylabel('Accuracy')\n",
    "plt.legend()\n",
    "plt.show()"
   ]
  },
  {
   "cell_type": "code",
   "execution_count": 15,
   "metadata": {},
   "outputs": [
    {
     "data": {
      "image/png": "[encoded data removed]",
      "text/plain": [
       "<matplotlib.figure.Figure at 0x7fde80d28410>"
      ]
     },
     "metadata": {},
     "output_type": "display_data"
    }
   ],
   "source": [
    "from sklearn.model_selection import validation_curve\n",
    "\n",
    "param_range = [0.001, 0.01, 0.1, 1.0, 10.0, 100.0]\n",
    "train_scores, test_scores = validation_curve(estimator=pipe_svc,\n",
    "                                             X=X_train,\n",
    "                                             y=y_train,\n",
    "                                             param_name='svc__C',\n",
    "                                             param_range=param_range,\n",
    "                                             cv=10)\n",
    "\n",
    "# Mean value of accuracy against training data\n",
    "train_mean = np.mean(train_scores, axis=1)\n",
    "\n",
    "# Standard deviation of training accuracy per number of training samples\n",
    "train_std = np.std(train_scores, axis=1)\n",
    "\n",
    "# Same as above for test data\n",
    "test_mean = np.mean(test_scores, axis=1)\n",
    "test_std = np.std(test_scores, axis=1)\n",
    "\n",
    "# Plot training accuracies \n",
    "plt.plot(param_range, train_mean, color='red', marker='o', label='Training Accuracy')\n",
    "# Plot the variance of training accuracies\n",
    "plt.fill_between(param_range,\n",
    "                train_mean + train_std,\n",
    "                train_mean - train_std,\n",
    "                alpha=0.15, color='red')\n",
    "\n",
    "# Plot for test data as training data\n",
    "plt.plot(param_range, test_mean, color='blue', linestyle='--', marker='s', \n",
    "        label='Test Accuracy')\n",
    "plt.fill_between(param_range,\n",
    "                test_mean + test_std,\n",
    "                test_mean - test_std,\n",
    "                alpha=0.15, color='blue')\n",
    "\n",
    "plt.xscale('log')\n",
    "plt.xlabel('Regularization parameter C')\n",
    "plt.ylabel('Accuracy')\n",
    "plt.legend()\n",
    "plt.show()"
   ]
  },
  {
   "cell_type": "code",
   "execution_count": null,
   "metadata": {
    "collapsed": true
   },
   "outputs": [],
   "source": []
  },
  {
   "cell_type": "code",
   "execution_count": null,
   "metadata": {
    "collapsed": true
   },
   "outputs": [],
   "source": []
  }
 ],
 "metadata": {
  "kernelspec": {
   "display_name": "Python 2",
   "language": "python",
   "name": "python2"
  },
  "language_info": {
   "codemirror_mode": {
    "name": "ipython",
    "version": 2
   },
   "file_extension": ".py",
   "mimetype": "text/x-python",
   "name": "python",
   "nbconvert_exporter": "python",
   "pygments_lexer": "ipython2",
   "version": "2.7.14"
  }
 },
 "nbformat": 4,
 "nbformat_minor": 2
}
